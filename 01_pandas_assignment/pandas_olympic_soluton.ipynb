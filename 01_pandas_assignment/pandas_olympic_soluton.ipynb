{
  "cells": [
    {
      "cell_type": "markdown",
      "metadata": {
        "id": "Cr-JmpEpyk8d"
      },
      "source": [
        "# <center>Assignment #1. Task </center> <a class=\"tocSkip\">\n",
        "## <center>Exploratory Data Analysis (EDA) of Olympic games with Pandas </center> <a class=\"tocSkip\">\n",
        "    \n",
        "<img src=\"https://habrastorage.org/webt/my/70/d9/my70d97xhwfj8krp2q2qmn_smww.png\" width=50%>"
      ]
    },
    {
      "cell_type": "markdown",
      "metadata": {
        "id": "7LCovzU-yk8e"
      },
      "source": [
        "There are ten questions about 120 years of Olympic history in this assignment.\n",
        "\n",
        "### Your task is to:\n",
        " 1. write code and perform computations in the cells below;\n",
        " 2. choose answers in the [webform](https://docs.google.com/forms/d/1SJcNJxnY5Wwb_sDSxmb-FyghraeOt-ZmQMA0XzOLu4I).\n",
        " \n",
        "*If you are sure that something is not 100% correct with the assignment/solution, please leave your feedback via the mentioned webform ↑*\n",
        "\n",
        "-----"
      ]
    },
    {
      "cell_type": "code",
      "source": [
        "from google.colab import drive\n",
        "drive.mount('/content/drive')"
      ],
      "metadata": {
        "colab": {
          "base_uri": "https://localhost:8080/"
        },
        "id": "C7Dlky-X0D_a",
        "outputId": "7c476951-346a-4e1b-8f25-df425b7513b1"
      },
      "execution_count": 1,
      "outputs": [
        {
          "output_type": "stream",
          "name": "stdout",
          "text": [
            "Mounted at /content/drive\n"
          ]
        }
      ]
    },
    {
      "cell_type": "code",
      "execution_count": 2,
      "metadata": {
        "id": "kJaDhgtfyk8f"
      },
      "outputs": [],
      "source": [
        "from pathlib import Path\n",
        "import os\n",
        "import pandas as pd"
      ]
    },
    {
      "cell_type": "code",
      "source": [
        "os.chdir('/content/drive/MyDrive/ods/mlcourse_ai_bonus_jupyter_book')"
      ],
      "metadata": {
        "id": "AULawwo6z9Ys"
      },
      "execution_count": 3,
      "outputs": []
    },
    {
      "cell_type": "code",
      "source": [
        "os.getcwd()"
      ],
      "metadata": {
        "colab": {
          "base_uri": "https://localhost:8080/",
          "height": 35
        },
        "id": "G8nX0EXaz1fO",
        "outputId": "ec3ac4e8-f1aa-4189-b931-520091049209"
      },
      "execution_count": 4,
      "outputs": [
        {
          "output_type": "execute_result",
          "data": {
            "text/plain": [
              "'/content/drive/MyDrive/ods/mlcourse_ai_bonus_jupyter_book'"
            ],
            "application/vnd.google.colaboratory.intrinsic+json": {
              "type": "string"
            }
          },
          "metadata": {},
          "execution_count": 4
        }
      ]
    },
    {
      "cell_type": "code",
      "execution_count": 5,
      "metadata": {
        "id": "dFfyA6kuyk8g"
      },
      "outputs": [],
      "source": [
        "PATH_TO_DATA = Path(\"_static/data/assignment1\")"
      ]
    },
    {
      "cell_type": "code",
      "execution_count": 6,
      "metadata": {
        "colab": {
          "base_uri": "https://localhost:8080/",
          "height": 143
        },
        "id": "wxjYnfWUyk8h",
        "outputId": "3c3e468a-ef77-438c-8556-1c7bd8b85683"
      },
      "outputs": [
        {
          "output_type": "execute_result",
          "data": {
            "text/plain": [
              "         Name Sex   Age  Height  Weight   Team  NOC        Games  Year  \\\n",
              "ID                                                                       \n",
              "1   A Dijiang   M  24.0   180.0    80.0  China  CHN  1992 Summer  1992   \n",
              "2    A Lamusi   M  23.0   170.0    60.0  China  CHN  2012 Summer  2012   \n",
              "\n",
              "    Season       City       Sport                         Event Medal  \n",
              "ID                                                                     \n",
              "1   Summer  Barcelona  Basketball   Basketball Men's Basketball   NaN  \n",
              "2   Summer     London        Judo  Judo Men's Extra-Lightweight   NaN  "
            ],
            "text/html": [
              "\n",
              "  <div id=\"df-9a5404ee-c052-4067-a3ef-5c30b156cbef\">\n",
              "    <div class=\"colab-df-container\">\n",
              "      <div>\n",
              "<style scoped>\n",
              "    .dataframe tbody tr th:only-of-type {\n",
              "        vertical-align: middle;\n",
              "    }\n",
              "\n",
              "    .dataframe tbody tr th {\n",
              "        vertical-align: top;\n",
              "    }\n",
              "\n",
              "    .dataframe thead th {\n",
              "        text-align: right;\n",
              "    }\n",
              "</style>\n",
              "<table border=\"1\" class=\"dataframe\">\n",
              "  <thead>\n",
              "    <tr style=\"text-align: right;\">\n",
              "      <th></th>\n",
              "      <th>Name</th>\n",
              "      <th>Sex</th>\n",
              "      <th>Age</th>\n",
              "      <th>Height</th>\n",
              "      <th>Weight</th>\n",
              "      <th>Team</th>\n",
              "      <th>NOC</th>\n",
              "      <th>Games</th>\n",
              "      <th>Year</th>\n",
              "      <th>Season</th>\n",
              "      <th>City</th>\n",
              "      <th>Sport</th>\n",
              "      <th>Event</th>\n",
              "      <th>Medal</th>\n",
              "    </tr>\n",
              "    <tr>\n",
              "      <th>ID</th>\n",
              "      <th></th>\n",
              "      <th></th>\n",
              "      <th></th>\n",
              "      <th></th>\n",
              "      <th></th>\n",
              "      <th></th>\n",
              "      <th></th>\n",
              "      <th></th>\n",
              "      <th></th>\n",
              "      <th></th>\n",
              "      <th></th>\n",
              "      <th></th>\n",
              "      <th></th>\n",
              "      <th></th>\n",
              "    </tr>\n",
              "  </thead>\n",
              "  <tbody>\n",
              "    <tr>\n",
              "      <th>1</th>\n",
              "      <td>A Dijiang</td>\n",
              "      <td>M</td>\n",
              "      <td>24.0</td>\n",
              "      <td>180.0</td>\n",
              "      <td>80.0</td>\n",
              "      <td>China</td>\n",
              "      <td>CHN</td>\n",
              "      <td>1992 Summer</td>\n",
              "      <td>1992</td>\n",
              "      <td>Summer</td>\n",
              "      <td>Barcelona</td>\n",
              "      <td>Basketball</td>\n",
              "      <td>Basketball Men's Basketball</td>\n",
              "      <td>NaN</td>\n",
              "    </tr>\n",
              "    <tr>\n",
              "      <th>2</th>\n",
              "      <td>A Lamusi</td>\n",
              "      <td>M</td>\n",
              "      <td>23.0</td>\n",
              "      <td>170.0</td>\n",
              "      <td>60.0</td>\n",
              "      <td>China</td>\n",
              "      <td>CHN</td>\n",
              "      <td>2012 Summer</td>\n",
              "      <td>2012</td>\n",
              "      <td>Summer</td>\n",
              "      <td>London</td>\n",
              "      <td>Judo</td>\n",
              "      <td>Judo Men's Extra-Lightweight</td>\n",
              "      <td>NaN</td>\n",
              "    </tr>\n",
              "  </tbody>\n",
              "</table>\n",
              "</div>\n",
              "      <button class=\"colab-df-convert\" onclick=\"convertToInteractive('df-9a5404ee-c052-4067-a3ef-5c30b156cbef')\"\n",
              "              title=\"Convert this dataframe to an interactive table.\"\n",
              "              style=\"display:none;\">\n",
              "        \n",
              "  <svg xmlns=\"http://www.w3.org/2000/svg\" height=\"24px\"viewBox=\"0 0 24 24\"\n",
              "       width=\"24px\">\n",
              "    <path d=\"M0 0h24v24H0V0z\" fill=\"none\"/>\n",
              "    <path d=\"M18.56 5.44l.94 2.06.94-2.06 2.06-.94-2.06-.94-.94-2.06-.94 2.06-2.06.94zm-11 1L8.5 8.5l.94-2.06 2.06-.94-2.06-.94L8.5 2.5l-.94 2.06-2.06.94zm10 10l.94 2.06.94-2.06 2.06-.94-2.06-.94-.94-2.06-.94 2.06-2.06.94z\"/><path d=\"M17.41 7.96l-1.37-1.37c-.4-.4-.92-.59-1.43-.59-.52 0-1.04.2-1.43.59L10.3 9.45l-7.72 7.72c-.78.78-.78 2.05 0 2.83L4 21.41c.39.39.9.59 1.41.59.51 0 1.02-.2 1.41-.59l7.78-7.78 2.81-2.81c.8-.78.8-2.07 0-2.86zM5.41 20L4 18.59l7.72-7.72 1.47 1.35L5.41 20z\"/>\n",
              "  </svg>\n",
              "      </button>\n",
              "      \n",
              "  <style>\n",
              "    .colab-df-container {\n",
              "      display:flex;\n",
              "      flex-wrap:wrap;\n",
              "      gap: 12px;\n",
              "    }\n",
              "\n",
              "    .colab-df-convert {\n",
              "      background-color: #E8F0FE;\n",
              "      border: none;\n",
              "      border-radius: 50%;\n",
              "      cursor: pointer;\n",
              "      display: none;\n",
              "      fill: #1967D2;\n",
              "      height: 32px;\n",
              "      padding: 0 0 0 0;\n",
              "      width: 32px;\n",
              "    }\n",
              "\n",
              "    .colab-df-convert:hover {\n",
              "      background-color: #E2EBFA;\n",
              "      box-shadow: 0px 1px 2px rgba(60, 64, 67, 0.3), 0px 1px 3px 1px rgba(60, 64, 67, 0.15);\n",
              "      fill: #174EA6;\n",
              "    }\n",
              "\n",
              "    [theme=dark] .colab-df-convert {\n",
              "      background-color: #3B4455;\n",
              "      fill: #D2E3FC;\n",
              "    }\n",
              "\n",
              "    [theme=dark] .colab-df-convert:hover {\n",
              "      background-color: #434B5C;\n",
              "      box-shadow: 0px 1px 3px 1px rgba(0, 0, 0, 0.15);\n",
              "      filter: drop-shadow(0px 1px 2px rgba(0, 0, 0, 0.3));\n",
              "      fill: #FFFFFF;\n",
              "    }\n",
              "  </style>\n",
              "\n",
              "      <script>\n",
              "        const buttonEl =\n",
              "          document.querySelector('#df-9a5404ee-c052-4067-a3ef-5c30b156cbef button.colab-df-convert');\n",
              "        buttonEl.style.display =\n",
              "          google.colab.kernel.accessAllowed ? 'block' : 'none';\n",
              "\n",
              "        async function convertToInteractive(key) {\n",
              "          const element = document.querySelector('#df-9a5404ee-c052-4067-a3ef-5c30b156cbef');\n",
              "          const dataTable =\n",
              "            await google.colab.kernel.invokeFunction('convertToInteractive',\n",
              "                                                     [key], {});\n",
              "          if (!dataTable) return;\n",
              "\n",
              "          const docLinkHtml = 'Like what you see? Visit the ' +\n",
              "            '<a target=\"_blank\" href=https://colab.research.google.com/notebooks/data_table.ipynb>data table notebook</a>'\n",
              "            + ' to learn more about interactive tables.';\n",
              "          element.innerHTML = '';\n",
              "          dataTable['output_type'] = 'display_data';\n",
              "          await google.colab.output.renderOutput(dataTable, element);\n",
              "          const docLink = document.createElement('div');\n",
              "          docLink.innerHTML = docLinkHtml;\n",
              "          element.appendChild(docLink);\n",
              "        }\n",
              "      </script>\n",
              "    </div>\n",
              "  </div>\n",
              "  "
            ]
          },
          "metadata": {},
          "execution_count": 6
        }
      ],
      "source": [
        "df = pd.read_csv(PATH_TO_DATA / \"athlete_events.csv.zip\", index_col=\"ID\")\n",
        "df.head(2)"
      ]
    },
    {
      "cell_type": "markdown",
      "metadata": {
        "id": "hWzuzO_syk8i"
      },
      "source": [
        " The dataset has the following features:\n",
        "\n",
        "- __ID__ – Unique number for each athlete\n",
        "- __Name__ – Athlete's name\n",
        "- __Sex__ – M or F\n",
        "- __Age__ – Integer\n",
        "- __Height__ – In centimeters\n",
        "- __Weight__ – In kilograms\n",
        "- __Team__ – Team name\n",
        "- __NOC__ – National Olympic Committee 3-letter code\n",
        "- __Games__ – Year and season\n",
        "- __Year__ – Integer\n",
        "- __Season__ – Summer or Winter\n",
        "- __City__ – Host city\n",
        "- __Sport__ – Sport\n",
        "- __Event__ – Event\n",
        "- __Medal__ – Gold, Silver, Bronze, or NA"
      ]
    },
    {
      "cell_type": "markdown",
      "metadata": {
        "id": "y2JfauTzyk8j"
      },
      "source": [
        "**<font color='red'>Question 1.</font> How old were the youngest male and female participants of the 1992 Olympics?**\n",
        "\n",
        "- 16 and 15\n",
        "- 14 and 13 \n",
        "- 13 and 11\n",
        "- 11 and 12 **<font color='red'>+</font>**"
      ]
    },
    {
      "cell_type": "code",
      "source": [
        "df[(df['Sex']=='M')&(df['Year']==1992)]['Age'].min()"
      ],
      "metadata": {
        "colab": {
          "base_uri": "https://localhost:8080/"
        },
        "id": "pzp8DqKH1j2K",
        "outputId": "b6b123d2-a00b-44ca-9d67-4166145a2414"
      },
      "execution_count": 7,
      "outputs": [
        {
          "output_type": "execute_result",
          "data": {
            "text/plain": [
              "11.0"
            ]
          },
          "metadata": {},
          "execution_count": 7
        }
      ]
    },
    {
      "cell_type": "code",
      "source": [
        "df[(df['Sex']=='F')&(df['Year']==1992)]['Age'].min()"
      ],
      "metadata": {
        "colab": {
          "base_uri": "https://localhost:8080/"
        },
        "id": "xH8cR9il1w4U",
        "outputId": "3ad38749-7a29-42ab-f7f1-d0c6001d6cd5"
      },
      "execution_count": 8,
      "outputs": [
        {
          "output_type": "execute_result",
          "data": {
            "text/plain": [
              "12.0"
            ]
          },
          "metadata": {},
          "execution_count": 8
        }
      ]
    },
    {
      "cell_type": "markdown",
      "metadata": {
        "id": "J8aZiML8yk8k"
      },
      "source": [
        "**<font color='red'>Question 2.</font> What was the percentage of male basketball players among all the male participants of the 2012 Olympics? Round the answer to the first decimal.**\n",
        "\n",
        "*Hint:* drop duplicate athletes where necessary to count each athlete just once. This applies to other questions as well.\n",
        "\n",
        "- 0.2\n",
        "- 1.5 \n",
        "- 2.5 **<font color='red'>+</font>**\n",
        "- 7.7"
      ]
    },
    {
      "cell_type": "code",
      "source": [
        "len(df[(df['Sex']=='M')&(df['Year']==2012)&(df['Sport']=='Basketball')]['Name'].unique())/len(df[(df['Sex']=='M')&(df['Year']==2012)&(df['Sport']=='Basketball')])"
      ],
      "metadata": {
        "colab": {
          "base_uri": "https://localhost:8080/"
        },
        "id": "BQ1lPsJ123TN",
        "outputId": "d9a95a6c-b83f-4cd8-c4e6-4b8c4dff994e"
      },
      "execution_count": 9,
      "outputs": [
        {
          "output_type": "execute_result",
          "data": {
            "text/plain": [
              "1.0"
            ]
          },
          "metadata": {},
          "execution_count": 9
        }
      ]
    },
    {
      "cell_type": "code",
      "source": [
        "df[(df['Sex']=='M')&(df['Year']==2012)]['Name'].value_counts()"
      ],
      "metadata": {
        "colab": {
          "base_uri": "https://localhost:8080/"
        },
        "id": "_IL5OIUP3Uia",
        "outputId": "1548046e-c788-4abe-fd9f-245997872c00"
      },
      "execution_count": 10,
      "outputs": [
        {
          "output_type": "execute_result",
          "data": {
            "text/plain": [
              "Flavius Koczi                8\n",
              "Kristian James Thomas        8\n",
              "Kim Su-Myeon                 8\n",
              "Oleh Yuriyovych Verniaiev    8\n",
              "Koji Yamamuro                8\n",
              "                            ..\n",
              "Igor Hini                    1\n",
              "Philip Hindes                1\n",
              "Moustapha Abdoulaye Hima     1\n",
              "Blair Hilton                 1\n",
              "ukasz Tomasz ygado           1\n",
              "Name: Name, Length: 5858, dtype: int64"
            ]
          },
          "metadata": {},
          "execution_count": 10
        }
      ]
    },
    {
      "cell_type": "code",
      "source": [
        "df[(df['Year']==2012)&(df['Name']=='Flavius Koczi')]"
      ],
      "metadata": {
        "colab": {
          "base_uri": "https://localhost:8080/",
          "height": 331
        },
        "id": "ZputDqjw5hcR",
        "outputId": "0afdb19e-2b7a-47a3-ca59-045e0d8394ee"
      },
      "execution_count": 11,
      "outputs": [
        {
          "output_type": "execute_result",
          "data": {
            "text/plain": [
              "                Name Sex   Age  Height  Weight     Team  NOC        Games  \\\n",
              "ID                                                                          \n",
              "61839  Flavius Koczi   M  24.0   162.0    57.0  Romania  ROU  2012 Summer   \n",
              "61839  Flavius Koczi   M  24.0   162.0    57.0  Romania  ROU  2012 Summer   \n",
              "61839  Flavius Koczi   M  24.0   162.0    57.0  Romania  ROU  2012 Summer   \n",
              "61839  Flavius Koczi   M  24.0   162.0    57.0  Romania  ROU  2012 Summer   \n",
              "61839  Flavius Koczi   M  24.0   162.0    57.0  Romania  ROU  2012 Summer   \n",
              "61839  Flavius Koczi   M  24.0   162.0    57.0  Romania  ROU  2012 Summer   \n",
              "61839  Flavius Koczi   M  24.0   162.0    57.0  Romania  ROU  2012 Summer   \n",
              "61839  Flavius Koczi   M  24.0   162.0    57.0  Romania  ROU  2012 Summer   \n",
              "\n",
              "       Year  Season    City       Sport  \\\n",
              "ID                                        \n",
              "61839  2012  Summer  London  Gymnastics   \n",
              "61839  2012  Summer  London  Gymnastics   \n",
              "61839  2012  Summer  London  Gymnastics   \n",
              "61839  2012  Summer  London  Gymnastics   \n",
              "61839  2012  Summer  London  Gymnastics   \n",
              "61839  2012  Summer  London  Gymnastics   \n",
              "61839  2012  Summer  London  Gymnastics   \n",
              "61839  2012  Summer  London  Gymnastics   \n",
              "\n",
              "                                        Event Medal  \n",
              "ID                                                   \n",
              "61839  Gymnastics Men's Individual All-Around   NaN  \n",
              "61839        Gymnastics Men's Team All-Around   NaN  \n",
              "61839         Gymnastics Men's Floor Exercise   NaN  \n",
              "61839            Gymnastics Men's Horse Vault   NaN  \n",
              "61839          Gymnastics Men's Parallel Bars   NaN  \n",
              "61839         Gymnastics Men's Horizontal Bar   NaN  \n",
              "61839                  Gymnastics Men's Rings   NaN  \n",
              "61839        Gymnastics Men's Pommelled Horse   NaN  "
            ],
            "text/html": [
              "\n",
              "  <div id=\"df-38789bdd-26ef-409e-a7eb-7e0ffbc273d1\">\n",
              "    <div class=\"colab-df-container\">\n",
              "      <div>\n",
              "<style scoped>\n",
              "    .dataframe tbody tr th:only-of-type {\n",
              "        vertical-align: middle;\n",
              "    }\n",
              "\n",
              "    .dataframe tbody tr th {\n",
              "        vertical-align: top;\n",
              "    }\n",
              "\n",
              "    .dataframe thead th {\n",
              "        text-align: right;\n",
              "    }\n",
              "</style>\n",
              "<table border=\"1\" class=\"dataframe\">\n",
              "  <thead>\n",
              "    <tr style=\"text-align: right;\">\n",
              "      <th></th>\n",
              "      <th>Name</th>\n",
              "      <th>Sex</th>\n",
              "      <th>Age</th>\n",
              "      <th>Height</th>\n",
              "      <th>Weight</th>\n",
              "      <th>Team</th>\n",
              "      <th>NOC</th>\n",
              "      <th>Games</th>\n",
              "      <th>Year</th>\n",
              "      <th>Season</th>\n",
              "      <th>City</th>\n",
              "      <th>Sport</th>\n",
              "      <th>Event</th>\n",
              "      <th>Medal</th>\n",
              "    </tr>\n",
              "    <tr>\n",
              "      <th>ID</th>\n",
              "      <th></th>\n",
              "      <th></th>\n",
              "      <th></th>\n",
              "      <th></th>\n",
              "      <th></th>\n",
              "      <th></th>\n",
              "      <th></th>\n",
              "      <th></th>\n",
              "      <th></th>\n",
              "      <th></th>\n",
              "      <th></th>\n",
              "      <th></th>\n",
              "      <th></th>\n",
              "      <th></th>\n",
              "    </tr>\n",
              "  </thead>\n",
              "  <tbody>\n",
              "    <tr>\n",
              "      <th>61839</th>\n",
              "      <td>Flavius Koczi</td>\n",
              "      <td>M</td>\n",
              "      <td>24.0</td>\n",
              "      <td>162.0</td>\n",
              "      <td>57.0</td>\n",
              "      <td>Romania</td>\n",
              "      <td>ROU</td>\n",
              "      <td>2012 Summer</td>\n",
              "      <td>2012</td>\n",
              "      <td>Summer</td>\n",
              "      <td>London</td>\n",
              "      <td>Gymnastics</td>\n",
              "      <td>Gymnastics Men's Individual All-Around</td>\n",
              "      <td>NaN</td>\n",
              "    </tr>\n",
              "    <tr>\n",
              "      <th>61839</th>\n",
              "      <td>Flavius Koczi</td>\n",
              "      <td>M</td>\n",
              "      <td>24.0</td>\n",
              "      <td>162.0</td>\n",
              "      <td>57.0</td>\n",
              "      <td>Romania</td>\n",
              "      <td>ROU</td>\n",
              "      <td>2012 Summer</td>\n",
              "      <td>2012</td>\n",
              "      <td>Summer</td>\n",
              "      <td>London</td>\n",
              "      <td>Gymnastics</td>\n",
              "      <td>Gymnastics Men's Team All-Around</td>\n",
              "      <td>NaN</td>\n",
              "    </tr>\n",
              "    <tr>\n",
              "      <th>61839</th>\n",
              "      <td>Flavius Koczi</td>\n",
              "      <td>M</td>\n",
              "      <td>24.0</td>\n",
              "      <td>162.0</td>\n",
              "      <td>57.0</td>\n",
              "      <td>Romania</td>\n",
              "      <td>ROU</td>\n",
              "      <td>2012 Summer</td>\n",
              "      <td>2012</td>\n",
              "      <td>Summer</td>\n",
              "      <td>London</td>\n",
              "      <td>Gymnastics</td>\n",
              "      <td>Gymnastics Men's Floor Exercise</td>\n",
              "      <td>NaN</td>\n",
              "    </tr>\n",
              "    <tr>\n",
              "      <th>61839</th>\n",
              "      <td>Flavius Koczi</td>\n",
              "      <td>M</td>\n",
              "      <td>24.0</td>\n",
              "      <td>162.0</td>\n",
              "      <td>57.0</td>\n",
              "      <td>Romania</td>\n",
              "      <td>ROU</td>\n",
              "      <td>2012 Summer</td>\n",
              "      <td>2012</td>\n",
              "      <td>Summer</td>\n",
              "      <td>London</td>\n",
              "      <td>Gymnastics</td>\n",
              "      <td>Gymnastics Men's Horse Vault</td>\n",
              "      <td>NaN</td>\n",
              "    </tr>\n",
              "    <tr>\n",
              "      <th>61839</th>\n",
              "      <td>Flavius Koczi</td>\n",
              "      <td>M</td>\n",
              "      <td>24.0</td>\n",
              "      <td>162.0</td>\n",
              "      <td>57.0</td>\n",
              "      <td>Romania</td>\n",
              "      <td>ROU</td>\n",
              "      <td>2012 Summer</td>\n",
              "      <td>2012</td>\n",
              "      <td>Summer</td>\n",
              "      <td>London</td>\n",
              "      <td>Gymnastics</td>\n",
              "      <td>Gymnastics Men's Parallel Bars</td>\n",
              "      <td>NaN</td>\n",
              "    </tr>\n",
              "    <tr>\n",
              "      <th>61839</th>\n",
              "      <td>Flavius Koczi</td>\n",
              "      <td>M</td>\n",
              "      <td>24.0</td>\n",
              "      <td>162.0</td>\n",
              "      <td>57.0</td>\n",
              "      <td>Romania</td>\n",
              "      <td>ROU</td>\n",
              "      <td>2012 Summer</td>\n",
              "      <td>2012</td>\n",
              "      <td>Summer</td>\n",
              "      <td>London</td>\n",
              "      <td>Gymnastics</td>\n",
              "      <td>Gymnastics Men's Horizontal Bar</td>\n",
              "      <td>NaN</td>\n",
              "    </tr>\n",
              "    <tr>\n",
              "      <th>61839</th>\n",
              "      <td>Flavius Koczi</td>\n",
              "      <td>M</td>\n",
              "      <td>24.0</td>\n",
              "      <td>162.0</td>\n",
              "      <td>57.0</td>\n",
              "      <td>Romania</td>\n",
              "      <td>ROU</td>\n",
              "      <td>2012 Summer</td>\n",
              "      <td>2012</td>\n",
              "      <td>Summer</td>\n",
              "      <td>London</td>\n",
              "      <td>Gymnastics</td>\n",
              "      <td>Gymnastics Men's Rings</td>\n",
              "      <td>NaN</td>\n",
              "    </tr>\n",
              "    <tr>\n",
              "      <th>61839</th>\n",
              "      <td>Flavius Koczi</td>\n",
              "      <td>M</td>\n",
              "      <td>24.0</td>\n",
              "      <td>162.0</td>\n",
              "      <td>57.0</td>\n",
              "      <td>Romania</td>\n",
              "      <td>ROU</td>\n",
              "      <td>2012 Summer</td>\n",
              "      <td>2012</td>\n",
              "      <td>Summer</td>\n",
              "      <td>London</td>\n",
              "      <td>Gymnastics</td>\n",
              "      <td>Gymnastics Men's Pommelled Horse</td>\n",
              "      <td>NaN</td>\n",
              "    </tr>\n",
              "  </tbody>\n",
              "</table>\n",
              "</div>\n",
              "      <button class=\"colab-df-convert\" onclick=\"convertToInteractive('df-38789bdd-26ef-409e-a7eb-7e0ffbc273d1')\"\n",
              "              title=\"Convert this dataframe to an interactive table.\"\n",
              "              style=\"display:none;\">\n",
              "        \n",
              "  <svg xmlns=\"http://www.w3.org/2000/svg\" height=\"24px\"viewBox=\"0 0 24 24\"\n",
              "       width=\"24px\">\n",
              "    <path d=\"M0 0h24v24H0V0z\" fill=\"none\"/>\n",
              "    <path d=\"M18.56 5.44l.94 2.06.94-2.06 2.06-.94-2.06-.94-.94-2.06-.94 2.06-2.06.94zm-11 1L8.5 8.5l.94-2.06 2.06-.94-2.06-.94L8.5 2.5l-.94 2.06-2.06.94zm10 10l.94 2.06.94-2.06 2.06-.94-2.06-.94-.94-2.06-.94 2.06-2.06.94z\"/><path d=\"M17.41 7.96l-1.37-1.37c-.4-.4-.92-.59-1.43-.59-.52 0-1.04.2-1.43.59L10.3 9.45l-7.72 7.72c-.78.78-.78 2.05 0 2.83L4 21.41c.39.39.9.59 1.41.59.51 0 1.02-.2 1.41-.59l7.78-7.78 2.81-2.81c.8-.78.8-2.07 0-2.86zM5.41 20L4 18.59l7.72-7.72 1.47 1.35L5.41 20z\"/>\n",
              "  </svg>\n",
              "      </button>\n",
              "      \n",
              "  <style>\n",
              "    .colab-df-container {\n",
              "      display:flex;\n",
              "      flex-wrap:wrap;\n",
              "      gap: 12px;\n",
              "    }\n",
              "\n",
              "    .colab-df-convert {\n",
              "      background-color: #E8F0FE;\n",
              "      border: none;\n",
              "      border-radius: 50%;\n",
              "      cursor: pointer;\n",
              "      display: none;\n",
              "      fill: #1967D2;\n",
              "      height: 32px;\n",
              "      padding: 0 0 0 0;\n",
              "      width: 32px;\n",
              "    }\n",
              "\n",
              "    .colab-df-convert:hover {\n",
              "      background-color: #E2EBFA;\n",
              "      box-shadow: 0px 1px 2px rgba(60, 64, 67, 0.3), 0px 1px 3px 1px rgba(60, 64, 67, 0.15);\n",
              "      fill: #174EA6;\n",
              "    }\n",
              "\n",
              "    [theme=dark] .colab-df-convert {\n",
              "      background-color: #3B4455;\n",
              "      fill: #D2E3FC;\n",
              "    }\n",
              "\n",
              "    [theme=dark] .colab-df-convert:hover {\n",
              "      background-color: #434B5C;\n",
              "      box-shadow: 0px 1px 3px 1px rgba(0, 0, 0, 0.15);\n",
              "      filter: drop-shadow(0px 1px 2px rgba(0, 0, 0, 0.3));\n",
              "      fill: #FFFFFF;\n",
              "    }\n",
              "  </style>\n",
              "\n",
              "      <script>\n",
              "        const buttonEl =\n",
              "          document.querySelector('#df-38789bdd-26ef-409e-a7eb-7e0ffbc273d1 button.colab-df-convert');\n",
              "        buttonEl.style.display =\n",
              "          google.colab.kernel.accessAllowed ? 'block' : 'none';\n",
              "\n",
              "        async function convertToInteractive(key) {\n",
              "          const element = document.querySelector('#df-38789bdd-26ef-409e-a7eb-7e0ffbc273d1');\n",
              "          const dataTable =\n",
              "            await google.colab.kernel.invokeFunction('convertToInteractive',\n",
              "                                                     [key], {});\n",
              "          if (!dataTable) return;\n",
              "\n",
              "          const docLinkHtml = 'Like what you see? Visit the ' +\n",
              "            '<a target=\"_blank\" href=https://colab.research.google.com/notebooks/data_table.ipynb>data table notebook</a>'\n",
              "            + ' to learn more about interactive tables.';\n",
              "          element.innerHTML = '';\n",
              "          dataTable['output_type'] = 'display_data';\n",
              "          await google.colab.output.renderOutput(dataTable, element);\n",
              "          const docLink = document.createElement('div');\n",
              "          docLink.innerHTML = docLinkHtml;\n",
              "          element.appendChild(docLink);\n",
              "        }\n",
              "      </script>\n",
              "    </div>\n",
              "  </div>\n",
              "  "
            ]
          },
          "metadata": {},
          "execution_count": 11
        }
      ]
    },
    {
      "cell_type": "code",
      "source": [
        "basketball = len(df[(df['Sex']=='M')&(df['Year']==2012)&(df['Sport']=='Basketball')])"
      ],
      "metadata": {
        "id": "aw8dL4IK6315"
      },
      "execution_count": 12,
      "outputs": []
    },
    {
      "cell_type": "code",
      "source": [
        "all_sports = len(df[(df['Sex']=='M')&(df['Year']==2012)].drop_duplicates(subset = 'Name'))"
      ],
      "metadata": {
        "id": "N1X5pmmb68fo"
      },
      "execution_count": 13,
      "outputs": []
    },
    {
      "cell_type": "code",
      "execution_count": 14,
      "metadata": {
        "colab": {
          "base_uri": "https://localhost:8080/"
        },
        "id": "LzRsTHxMyk8l",
        "outputId": "22c41c76-cb87-4431-b95b-5e752201dacf"
      },
      "outputs": [
        {
          "output_type": "execute_result",
          "data": {
            "text/plain": [
              "2.5"
            ]
          },
          "metadata": {},
          "execution_count": 14
        }
      ],
      "source": [
        "# You code here \n",
        "round((basketball/all_sports)*100, 1)"
      ]
    },
    {
      "cell_type": "markdown",
      "metadata": {
        "id": "IKmPA0ZCyk8m"
      },
      "source": [
        "**<font color='red'>Question 3.</font> What are the mean and standard deviation of height for female tennis players who participated in the 2000 Olympics? Round the answer to the first decimal.**\n",
        "\n",
        "- 171.8 and 6.5 **<font color='red'>+</font>**\n",
        "- 179.4 and 10\n",
        "- 180.7 and 6.7\n",
        "- 182.4 and 9.1 "
      ]
    },
    {
      "cell_type": "code",
      "source": [
        "sorted(df['Sport'].unique())"
      ],
      "metadata": {
        "id": "Ts98FBtX8Kw2"
      },
      "execution_count": null,
      "outputs": []
    },
    {
      "cell_type": "code",
      "execution_count": 16,
      "metadata": {
        "colab": {
          "base_uri": "https://localhost:8080/"
        },
        "id": "Imp-ewjoyk8m",
        "outputId": "8bb62b1b-bf7a-43af-b4e2-e6c2e89b1d9c"
      },
      "outputs": [
        {
          "output_type": "execute_result",
          "data": {
            "text/plain": [
              "6.6"
            ]
          },
          "metadata": {},
          "execution_count": 16
        }
      ],
      "source": [
        "# You code here\n",
        "q_female_tennis_2000 = '(Year == 2000) & (Sex == \"F\") & (Sport == \"Tennis\")'\n",
        "round(df.query(q_female_tennis_2000).drop_duplicates(subset = 'Name').Height.std(), 1)"
      ]
    },
    {
      "cell_type": "code",
      "source": [
        "round(df.query(q_female_tennis_2000).drop_duplicates(subset = 'Name').Height.mean(),1)"
      ],
      "metadata": {
        "colab": {
          "base_uri": "https://localhost:8080/"
        },
        "id": "8zq6Hyar8cgh",
        "outputId": "36924f84-e0e2-44d5-b265-972bdc428f90"
      },
      "execution_count": 17,
      "outputs": [
        {
          "output_type": "execute_result",
          "data": {
            "text/plain": [
              "171.8"
            ]
          },
          "metadata": {},
          "execution_count": 17
        }
      ]
    },
    {
      "cell_type": "markdown",
      "metadata": {
        "id": "CCltO6bayk8n"
      },
      "source": [
        "**<font color='red'>Question 4.</font> Find the heaviest athlete among 2006 Olympics participants. What sport did he or she do?**\n",
        "\n",
        "- Judo\n",
        "- Bobsleigh \n",
        "- Skeleton **<font color='red'>+</font>**\n",
        "- Boxing"
      ]
    },
    {
      "cell_type": "code",
      "execution_count": 18,
      "metadata": {
        "id": "_3UUX2J8yk8o"
      },
      "outputs": [],
      "source": [
        "# You code here"
      ]
    },
    {
      "cell_type": "code",
      "source": [
        "max_weight_2006 = df[df['Year']==2006]['Weight'].max()"
      ],
      "metadata": {
        "id": "AHO3WjA99T8f"
      },
      "execution_count": 19,
      "outputs": []
    },
    {
      "cell_type": "code",
      "source": [
        "df[(df['Year']==2006)&(df['Weight']==max_weight_2006)]['Sport'].iloc[0]"
      ],
      "metadata": {
        "colab": {
          "base_uri": "https://localhost:8080/",
          "height": 35
        },
        "id": "_8SOD4NG96h_",
        "outputId": "0bfcc6c5-07d4-4289-9d15-be39b4da6cf3"
      },
      "execution_count": 20,
      "outputs": [
        {
          "output_type": "execute_result",
          "data": {
            "text/plain": [
              "'Skeleton'"
            ],
            "application/vnd.google.colaboratory.intrinsic+json": {
              "type": "string"
            }
          },
          "metadata": {},
          "execution_count": 20
        }
      ]
    },
    {
      "cell_type": "markdown",
      "metadata": {
        "id": "Hw4SsdQ-yk8o"
      },
      "source": [
        "**<font color='red'>Question 5.</font> How many times did John Aalberg participate in the Olympics held in different years?**\n",
        "\n",
        "- 0\n",
        "- 1 \n",
        "- 2 **<font color='red'>+</font>**\n",
        "- 3 "
      ]
    },
    {
      "cell_type": "code",
      "source": [
        "# You code here\n",
        "df[df['Name']=='John Aalberg']['Year'].nunique()"
      ],
      "metadata": {
        "colab": {
          "base_uri": "https://localhost:8080/"
        },
        "id": "1V978TjL-X4d",
        "outputId": "871a489a-ddc7-4efa-e492-96f6399606da"
      },
      "execution_count": 21,
      "outputs": [
        {
          "output_type": "execute_result",
          "data": {
            "text/plain": [
              "2"
            ]
          },
          "metadata": {},
          "execution_count": 21
        }
      ]
    },
    {
      "cell_type": "markdown",
      "metadata": {
        "id": "DEq2rB4Jyk8p"
      },
      "source": [
        "**<font color='red'>Question 6.</font> How many gold medals in tennis did the Switzerland team win at the 2008 Olympics?**\n",
        "\n",
        "- 0\n",
        "- 1 \n",
        "- 2 **<font color='red'>+</font>**\n",
        "- 3 "
      ]
    },
    {
      "cell_type": "code",
      "source": [
        "# You code here\n",
        "swiss_tennis_2008_gold = '(Team == \"Switzerland\") & (Sport == \"Tennis\") & (Year == 2008) & (Medal == \"Gold\")'\n",
        "len(df.query(swiss_tennis_2008_gold))"
      ],
      "metadata": {
        "colab": {
          "base_uri": "https://localhost:8080/"
        },
        "id": "yX7r3eHY-mpL",
        "outputId": "8e4f2fbc-7f90-482b-a022-dc604f07eae8"
      },
      "execution_count": 22,
      "outputs": [
        {
          "output_type": "execute_result",
          "data": {
            "text/plain": [
              "2"
            ]
          },
          "metadata": {},
          "execution_count": 22
        }
      ]
    },
    {
      "cell_type": "code",
      "source": [
        "# OR for more cases\n",
        "swiss_2008 = '(Team == \"Switzerland\") & (Year == 2008)'\n",
        "(df.query(swiss_2008).groupby([\"Medal\", \"Sport\"]).get_group((\"Gold\", \"Tennis\")).shape[0])"
      ],
      "metadata": {
        "colab": {
          "base_uri": "https://localhost:8080/"
        },
        "id": "IXsVAdRNEF5g",
        "outputId": "41b7c395-41f1-4d8b-ea54-d7b5bd39e4d6"
      },
      "execution_count": 23,
      "outputs": [
        {
          "output_type": "execute_result",
          "data": {
            "text/plain": [
              "2"
            ]
          },
          "metadata": {},
          "execution_count": 23
        }
      ]
    },
    {
      "cell_type": "markdown",
      "metadata": {
        "id": "Jf9qyGU3yk8q"
      },
      "source": [
        "**<font color='red'>Question 7.</font>  Is it true that Spain won fewer medals than Italy at the 2016 Olympics? Do not consider NaN values in the _Medal_ column.**\n",
        "\n",
        "- Yes **<font color='red'>+</font>**\n",
        "- No"
      ]
    },
    {
      "cell_type": "code",
      "execution_count": 24,
      "metadata": {
        "colab": {
          "base_uri": "https://localhost:8080/"
        },
        "id": "eaucuhe7yk8r",
        "outputId": "b476d730-9f38-4e87-bf74-744346d445c4"
      },
      "outputs": [
        {
          "output_type": "execute_result",
          "data": {
            "text/plain": [
              "(43, 70)"
            ]
          },
          "metadata": {},
          "execution_count": 24
        }
      ],
      "source": [
        "# You code here \n",
        "spain = len(\n",
        "    df.query('(Year == 2016) & (Team == \"Spain\")').dropna(subset=[\"Medal\"])\n",
        ")\n",
        "\n",
        "italy = len(\n",
        "    df.query('(Year == 2016) & (Team == \"Italy\")').dropna(subset=[\"Medal\"])\n",
        ")\n",
        "\n",
        "spain, italy"
      ]
    },
    {
      "cell_type": "markdown",
      "metadata": {
        "id": "o1j9EU00yk8r"
      },
      "source": [
        "**<font color='red'>Question 8.</font> What are the least and most common age groups among the participants of the 2008 Olympics?**\n",
        "- [45-55] and [25-35) correspondingly\n",
        "- [45-55] and [15-25) correspondingly **<font color='red'>+</font>**\n",
        "- [35-45) and [25-35) correspondingly\n",
        "- [45-55] and [35-45) correspondingly"
      ]
    },
    {
      "cell_type": "code",
      "source": [
        "q_15_25 = '(Age >= 15) & (Age < 25) & (Year == 2008)'\n",
        "q_25_35 = '(Age >= 25) & (Age < 35) & (Year == 2008)'\n",
        "q_35_45 = '(Age >= 35) & (Age < 45) & (Year == 2008)'\n",
        "q_45_55 = '(Age >= 45) & (Age <= 55) & (Year == 2008)'"
      ],
      "metadata": {
        "id": "FErSYbE_YWUK"
      },
      "execution_count": 32,
      "outputs": []
    },
    {
      "cell_type": "code",
      "source": [
        "len(df.query(q_15_25).drop_duplicates(subset=\"Name\"))"
      ],
      "metadata": {
        "colab": {
          "base_uri": "https://localhost:8080/"
        },
        "id": "AffpwZPXapho",
        "outputId": "32b6eb2f-fb1d-4a57-88ae-bfc031f464c5"
      },
      "execution_count": 37,
      "outputs": [
        {
          "output_type": "execute_result",
          "data": {
            "text/plain": [
              "4783"
            ]
          },
          "metadata": {},
          "execution_count": 37
        }
      ]
    },
    {
      "cell_type": "code",
      "source": [
        "len(df.query(q_25_35).drop_duplicates(subset=\"Name\"))"
      ],
      "metadata": {
        "colab": {
          "base_uri": "https://localhost:8080/"
        },
        "id": "Nbs4R9sZazg0",
        "outputId": "988867c8-15b2-45c6-a3c3-10d4f4f8df62"
      },
      "execution_count": 38,
      "outputs": [
        {
          "output_type": "execute_result",
          "data": {
            "text/plain": [
              "5376"
            ]
          },
          "metadata": {},
          "execution_count": 38
        }
      ]
    },
    {
      "cell_type": "code",
      "source": [
        "len(df.query(q_35_45).drop_duplicates(subset=\"Name\"))"
      ],
      "metadata": {
        "colab": {
          "base_uri": "https://localhost:8080/"
        },
        "id": "CUS18AZUa2Rx",
        "outputId": "98a3a080-49c7-4a00-9cd4-537cdd5767bb"
      },
      "execution_count": 39,
      "outputs": [
        {
          "output_type": "execute_result",
          "data": {
            "text/plain": [
              "630"
            ]
          },
          "metadata": {},
          "execution_count": 39
        }
      ]
    },
    {
      "cell_type": "code",
      "source": [
        "len(df.query(q_45_55).drop_duplicates(subset=\"Name\"))"
      ],
      "metadata": {
        "colab": {
          "base_uri": "https://localhost:8080/"
        },
        "id": "RX0bNg-ma5sP",
        "outputId": "885a16ee-1897-4226-fcec-02cb0feb98f1"
      },
      "execution_count": 40,
      "outputs": [
        {
          "output_type": "execute_result",
          "data": {
            "text/plain": [
              "78"
            ]
          },
          "metadata": {},
          "execution_count": 40
        }
      ]
    },
    {
      "cell_type": "code",
      "source": [
        "# another way \n",
        "def age_category(age):\n",
        "    \"\"\"identifies the interval\"\"\"\n",
        "    \n",
        "    if 15 <= age < 25:\n",
        "        return \"[15, 25)\"\n",
        "    elif 25 <= age < 35:\n",
        "        return \"[25, 35)\"\n",
        "    elif 35 <= age < 45:\n",
        "        return \"[35, 45)\"\n",
        "    elif 45 <= age <= 55:\n",
        "        return \"[45, 55]\""
      ],
      "metadata": {
        "id": "JeKyEI8NbShW"
      },
      "execution_count": 43,
      "outputs": []
    },
    {
      "cell_type": "code",
      "source": [
        "# applying to each row the fuction of age interval detection\n",
        "df[\"age_category\"] = df.Age.map(age_category)"
      ],
      "metadata": {
        "id": "kV23WmgNb1Yj"
      },
      "execution_count": 44,
      "outputs": []
    },
    {
      "cell_type": "code",
      "source": [
        "df[df['Year'] == 2008].drop_duplicates(subset=\"Name\").groupby(\"age_category\").size()"
      ],
      "metadata": {
        "colab": {
          "base_uri": "https://localhost:8080/"
        },
        "id": "0ctpfSb2cAVR",
        "outputId": "596b64b8-f462-426a-ba71-746340891348"
      },
      "execution_count": 45,
      "outputs": [
        {
          "output_type": "execute_result",
          "data": {
            "text/plain": [
              "age_category\n",
              "[15, 25)    4776\n",
              "[25, 35)    5373\n",
              "[35, 45)     630\n",
              "[45, 55]      78\n",
              "dtype: int64"
            ]
          },
          "metadata": {},
          "execution_count": 45
        }
      ]
    },
    {
      "cell_type": "markdown",
      "metadata": {
        "id": "5Atmy5g-yk8s"
      },
      "source": [
        "**<font color='red'>Question 9.</font> Is it true that there were Summer Olympics held in Atlanta? Is it true that there were Winter Olympics held in Squaw Valley?**\n",
        "\n",
        "- Yes, Yes **<font color='red'>+</font>**\n",
        "- Yes, No\n",
        "- No, Yes \n",
        "- No, No "
      ]
    },
    {
      "cell_type": "code",
      "source": [
        "df.head(2)"
      ],
      "metadata": {
        "colab": {
          "base_uri": "https://localhost:8080/",
          "height": 143
        },
        "id": "SGgKrTqYdcHc",
        "outputId": "88f6001a-53fc-4b41-a3bb-1c639aba3a74"
      },
      "execution_count": 46,
      "outputs": [
        {
          "output_type": "execute_result",
          "data": {
            "text/plain": [
              "         Name Sex   Age  Height  Weight   Team  NOC        Games  Year  \\\n",
              "ID                                                                       \n",
              "1   A Dijiang   M  24.0   180.0    80.0  China  CHN  1992 Summer  1992   \n",
              "2    A Lamusi   M  23.0   170.0    60.0  China  CHN  2012 Summer  2012   \n",
              "\n",
              "    Season       City       Sport                         Event Medal  \\\n",
              "ID                                                                      \n",
              "1   Summer  Barcelona  Basketball   Basketball Men's Basketball   NaN   \n",
              "2   Summer     London        Judo  Judo Men's Extra-Lightweight   NaN   \n",
              "\n",
              "   age_category  \n",
              "ID               \n",
              "1      [15, 25)  \n",
              "2      [15, 25)  "
            ],
            "text/html": [
              "\n",
              "  <div id=\"df-6914f20c-224c-4046-8f79-14b08fc866e7\">\n",
              "    <div class=\"colab-df-container\">\n",
              "      <div>\n",
              "<style scoped>\n",
              "    .dataframe tbody tr th:only-of-type {\n",
              "        vertical-align: middle;\n",
              "    }\n",
              "\n",
              "    .dataframe tbody tr th {\n",
              "        vertical-align: top;\n",
              "    }\n",
              "\n",
              "    .dataframe thead th {\n",
              "        text-align: right;\n",
              "    }\n",
              "</style>\n",
              "<table border=\"1\" class=\"dataframe\">\n",
              "  <thead>\n",
              "    <tr style=\"text-align: right;\">\n",
              "      <th></th>\n",
              "      <th>Name</th>\n",
              "      <th>Sex</th>\n",
              "      <th>Age</th>\n",
              "      <th>Height</th>\n",
              "      <th>Weight</th>\n",
              "      <th>Team</th>\n",
              "      <th>NOC</th>\n",
              "      <th>Games</th>\n",
              "      <th>Year</th>\n",
              "      <th>Season</th>\n",
              "      <th>City</th>\n",
              "      <th>Sport</th>\n",
              "      <th>Event</th>\n",
              "      <th>Medal</th>\n",
              "      <th>age_category</th>\n",
              "    </tr>\n",
              "    <tr>\n",
              "      <th>ID</th>\n",
              "      <th></th>\n",
              "      <th></th>\n",
              "      <th></th>\n",
              "      <th></th>\n",
              "      <th></th>\n",
              "      <th></th>\n",
              "      <th></th>\n",
              "      <th></th>\n",
              "      <th></th>\n",
              "      <th></th>\n",
              "      <th></th>\n",
              "      <th></th>\n",
              "      <th></th>\n",
              "      <th></th>\n",
              "      <th></th>\n",
              "    </tr>\n",
              "  </thead>\n",
              "  <tbody>\n",
              "    <tr>\n",
              "      <th>1</th>\n",
              "      <td>A Dijiang</td>\n",
              "      <td>M</td>\n",
              "      <td>24.0</td>\n",
              "      <td>180.0</td>\n",
              "      <td>80.0</td>\n",
              "      <td>China</td>\n",
              "      <td>CHN</td>\n",
              "      <td>1992 Summer</td>\n",
              "      <td>1992</td>\n",
              "      <td>Summer</td>\n",
              "      <td>Barcelona</td>\n",
              "      <td>Basketball</td>\n",
              "      <td>Basketball Men's Basketball</td>\n",
              "      <td>NaN</td>\n",
              "      <td>[15, 25)</td>\n",
              "    </tr>\n",
              "    <tr>\n",
              "      <th>2</th>\n",
              "      <td>A Lamusi</td>\n",
              "      <td>M</td>\n",
              "      <td>23.0</td>\n",
              "      <td>170.0</td>\n",
              "      <td>60.0</td>\n",
              "      <td>China</td>\n",
              "      <td>CHN</td>\n",
              "      <td>2012 Summer</td>\n",
              "      <td>2012</td>\n",
              "      <td>Summer</td>\n",
              "      <td>London</td>\n",
              "      <td>Judo</td>\n",
              "      <td>Judo Men's Extra-Lightweight</td>\n",
              "      <td>NaN</td>\n",
              "      <td>[15, 25)</td>\n",
              "    </tr>\n",
              "  </tbody>\n",
              "</table>\n",
              "</div>\n",
              "      <button class=\"colab-df-convert\" onclick=\"convertToInteractive('df-6914f20c-224c-4046-8f79-14b08fc866e7')\"\n",
              "              title=\"Convert this dataframe to an interactive table.\"\n",
              "              style=\"display:none;\">\n",
              "        \n",
              "  <svg xmlns=\"http://www.w3.org/2000/svg\" height=\"24px\"viewBox=\"0 0 24 24\"\n",
              "       width=\"24px\">\n",
              "    <path d=\"M0 0h24v24H0V0z\" fill=\"none\"/>\n",
              "    <path d=\"M18.56 5.44l.94 2.06.94-2.06 2.06-.94-2.06-.94-.94-2.06-.94 2.06-2.06.94zm-11 1L8.5 8.5l.94-2.06 2.06-.94-2.06-.94L8.5 2.5l-.94 2.06-2.06.94zm10 10l.94 2.06.94-2.06 2.06-.94-2.06-.94-.94-2.06-.94 2.06-2.06.94z\"/><path d=\"M17.41 7.96l-1.37-1.37c-.4-.4-.92-.59-1.43-.59-.52 0-1.04.2-1.43.59L10.3 9.45l-7.72 7.72c-.78.78-.78 2.05 0 2.83L4 21.41c.39.39.9.59 1.41.59.51 0 1.02-.2 1.41-.59l7.78-7.78 2.81-2.81c.8-.78.8-2.07 0-2.86zM5.41 20L4 18.59l7.72-7.72 1.47 1.35L5.41 20z\"/>\n",
              "  </svg>\n",
              "      </button>\n",
              "      \n",
              "  <style>\n",
              "    .colab-df-container {\n",
              "      display:flex;\n",
              "      flex-wrap:wrap;\n",
              "      gap: 12px;\n",
              "    }\n",
              "\n",
              "    .colab-df-convert {\n",
              "      background-color: #E8F0FE;\n",
              "      border: none;\n",
              "      border-radius: 50%;\n",
              "      cursor: pointer;\n",
              "      display: none;\n",
              "      fill: #1967D2;\n",
              "      height: 32px;\n",
              "      padding: 0 0 0 0;\n",
              "      width: 32px;\n",
              "    }\n",
              "\n",
              "    .colab-df-convert:hover {\n",
              "      background-color: #E2EBFA;\n",
              "      box-shadow: 0px 1px 2px rgba(60, 64, 67, 0.3), 0px 1px 3px 1px rgba(60, 64, 67, 0.15);\n",
              "      fill: #174EA6;\n",
              "    }\n",
              "\n",
              "    [theme=dark] .colab-df-convert {\n",
              "      background-color: #3B4455;\n",
              "      fill: #D2E3FC;\n",
              "    }\n",
              "\n",
              "    [theme=dark] .colab-df-convert:hover {\n",
              "      background-color: #434B5C;\n",
              "      box-shadow: 0px 1px 3px 1px rgba(0, 0, 0, 0.15);\n",
              "      filter: drop-shadow(0px 1px 2px rgba(0, 0, 0, 0.3));\n",
              "      fill: #FFFFFF;\n",
              "    }\n",
              "  </style>\n",
              "\n",
              "      <script>\n",
              "        const buttonEl =\n",
              "          document.querySelector('#df-6914f20c-224c-4046-8f79-14b08fc866e7 button.colab-df-convert');\n",
              "        buttonEl.style.display =\n",
              "          google.colab.kernel.accessAllowed ? 'block' : 'none';\n",
              "\n",
              "        async function convertToInteractive(key) {\n",
              "          const element = document.querySelector('#df-6914f20c-224c-4046-8f79-14b08fc866e7');\n",
              "          const dataTable =\n",
              "            await google.colab.kernel.invokeFunction('convertToInteractive',\n",
              "                                                     [key], {});\n",
              "          if (!dataTable) return;\n",
              "\n",
              "          const docLinkHtml = 'Like what you see? Visit the ' +\n",
              "            '<a target=\"_blank\" href=https://colab.research.google.com/notebooks/data_table.ipynb>data table notebook</a>'\n",
              "            + ' to learn more about interactive tables.';\n",
              "          element.innerHTML = '';\n",
              "          dataTable['output_type'] = 'display_data';\n",
              "          await google.colab.output.renderOutput(dataTable, element);\n",
              "          const docLink = document.createElement('div');\n",
              "          docLink.innerHTML = docLinkHtml;\n",
              "          element.appendChild(docLink);\n",
              "        }\n",
              "      </script>\n",
              "    </div>\n",
              "  </div>\n",
              "  "
            ]
          },
          "metadata": {},
          "execution_count": 46
        }
      ]
    },
    {
      "cell_type": "code",
      "source": [
        "q_summer_atlanta = '(City == \"Atlanta\") & (Season == \"Summer\")'\n",
        "q_winter_SV = '(City == \"Squaw Valley\") & (Season == \"Winter\")'"
      ],
      "metadata": {
        "id": "Ldxx52W6cwOL"
      },
      "execution_count": 48,
      "outputs": []
    },
    {
      "cell_type": "code",
      "source": [
        "len(df.query(q_summer_atlanta))"
      ],
      "metadata": {
        "colab": {
          "base_uri": "https://localhost:8080/"
        },
        "id": "HIscMMOKduqM",
        "outputId": "ce045e67-3978-413e-a709-e96d00becbbc"
      },
      "execution_count": 50,
      "outputs": [
        {
          "output_type": "execute_result",
          "data": {
            "text/plain": [
              "13780"
            ]
          },
          "metadata": {},
          "execution_count": 50
        }
      ]
    },
    {
      "cell_type": "code",
      "source": [
        "len(df.query(q_winter_SV))"
      ],
      "metadata": {
        "colab": {
          "base_uri": "https://localhost:8080/"
        },
        "id": "HWZL2nihd1lZ",
        "outputId": "9e48e612-5acc-443b-d758-a7c13dc8889e"
      },
      "execution_count": 51,
      "outputs": [
        {
          "output_type": "execute_result",
          "data": {
            "text/plain": [
              "1116"
            ]
          },
          "metadata": {},
          "execution_count": 51
        }
      ]
    },
    {
      "cell_type": "code",
      "source": [
        "# shorter way \n",
        "pd.crosstab(df['City'], df['Season']).loc[[\"Atlanta\", \"Squaw Valley\"]]"
      ],
      "metadata": {
        "colab": {
          "base_uri": "https://localhost:8080/",
          "height": 143
        },
        "id": "89n4rJsyd7n_",
        "outputId": "c24f7256-eb4e-46cd-8c82-6ce1c9272883"
      },
      "execution_count": 53,
      "outputs": [
        {
          "output_type": "execute_result",
          "data": {
            "text/plain": [
              "Season        Summer  Winter\n",
              "City                        \n",
              "Atlanta        13780       0\n",
              "Squaw Valley       0    1116"
            ],
            "text/html": [
              "\n",
              "  <div id=\"df-19b25a23-05ac-49a0-bc9a-386189bcad4e\">\n",
              "    <div class=\"colab-df-container\">\n",
              "      <div>\n",
              "<style scoped>\n",
              "    .dataframe tbody tr th:only-of-type {\n",
              "        vertical-align: middle;\n",
              "    }\n",
              "\n",
              "    .dataframe tbody tr th {\n",
              "        vertical-align: top;\n",
              "    }\n",
              "\n",
              "    .dataframe thead th {\n",
              "        text-align: right;\n",
              "    }\n",
              "</style>\n",
              "<table border=\"1\" class=\"dataframe\">\n",
              "  <thead>\n",
              "    <tr style=\"text-align: right;\">\n",
              "      <th>Season</th>\n",
              "      <th>Summer</th>\n",
              "      <th>Winter</th>\n",
              "    </tr>\n",
              "    <tr>\n",
              "      <th>City</th>\n",
              "      <th></th>\n",
              "      <th></th>\n",
              "    </tr>\n",
              "  </thead>\n",
              "  <tbody>\n",
              "    <tr>\n",
              "      <th>Atlanta</th>\n",
              "      <td>13780</td>\n",
              "      <td>0</td>\n",
              "    </tr>\n",
              "    <tr>\n",
              "      <th>Squaw Valley</th>\n",
              "      <td>0</td>\n",
              "      <td>1116</td>\n",
              "    </tr>\n",
              "  </tbody>\n",
              "</table>\n",
              "</div>\n",
              "      <button class=\"colab-df-convert\" onclick=\"convertToInteractive('df-19b25a23-05ac-49a0-bc9a-386189bcad4e')\"\n",
              "              title=\"Convert this dataframe to an interactive table.\"\n",
              "              style=\"display:none;\">\n",
              "        \n",
              "  <svg xmlns=\"http://www.w3.org/2000/svg\" height=\"24px\"viewBox=\"0 0 24 24\"\n",
              "       width=\"24px\">\n",
              "    <path d=\"M0 0h24v24H0V0z\" fill=\"none\"/>\n",
              "    <path d=\"M18.56 5.44l.94 2.06.94-2.06 2.06-.94-2.06-.94-.94-2.06-.94 2.06-2.06.94zm-11 1L8.5 8.5l.94-2.06 2.06-.94-2.06-.94L8.5 2.5l-.94 2.06-2.06.94zm10 10l.94 2.06.94-2.06 2.06-.94-2.06-.94-.94-2.06-.94 2.06-2.06.94z\"/><path d=\"M17.41 7.96l-1.37-1.37c-.4-.4-.92-.59-1.43-.59-.52 0-1.04.2-1.43.59L10.3 9.45l-7.72 7.72c-.78.78-.78 2.05 0 2.83L4 21.41c.39.39.9.59 1.41.59.51 0 1.02-.2 1.41-.59l7.78-7.78 2.81-2.81c.8-.78.8-2.07 0-2.86zM5.41 20L4 18.59l7.72-7.72 1.47 1.35L5.41 20z\"/>\n",
              "  </svg>\n",
              "      </button>\n",
              "      \n",
              "  <style>\n",
              "    .colab-df-container {\n",
              "      display:flex;\n",
              "      flex-wrap:wrap;\n",
              "      gap: 12px;\n",
              "    }\n",
              "\n",
              "    .colab-df-convert {\n",
              "      background-color: #E8F0FE;\n",
              "      border: none;\n",
              "      border-radius: 50%;\n",
              "      cursor: pointer;\n",
              "      display: none;\n",
              "      fill: #1967D2;\n",
              "      height: 32px;\n",
              "      padding: 0 0 0 0;\n",
              "      width: 32px;\n",
              "    }\n",
              "\n",
              "    .colab-df-convert:hover {\n",
              "      background-color: #E2EBFA;\n",
              "      box-shadow: 0px 1px 2px rgba(60, 64, 67, 0.3), 0px 1px 3px 1px rgba(60, 64, 67, 0.15);\n",
              "      fill: #174EA6;\n",
              "    }\n",
              "\n",
              "    [theme=dark] .colab-df-convert {\n",
              "      background-color: #3B4455;\n",
              "      fill: #D2E3FC;\n",
              "    }\n",
              "\n",
              "    [theme=dark] .colab-df-convert:hover {\n",
              "      background-color: #434B5C;\n",
              "      box-shadow: 0px 1px 3px 1px rgba(0, 0, 0, 0.15);\n",
              "      filter: drop-shadow(0px 1px 2px rgba(0, 0, 0, 0.3));\n",
              "      fill: #FFFFFF;\n",
              "    }\n",
              "  </style>\n",
              "\n",
              "      <script>\n",
              "        const buttonEl =\n",
              "          document.querySelector('#df-19b25a23-05ac-49a0-bc9a-386189bcad4e button.colab-df-convert');\n",
              "        buttonEl.style.display =\n",
              "          google.colab.kernel.accessAllowed ? 'block' : 'none';\n",
              "\n",
              "        async function convertToInteractive(key) {\n",
              "          const element = document.querySelector('#df-19b25a23-05ac-49a0-bc9a-386189bcad4e');\n",
              "          const dataTable =\n",
              "            await google.colab.kernel.invokeFunction('convertToInteractive',\n",
              "                                                     [key], {});\n",
              "          if (!dataTable) return;\n",
              "\n",
              "          const docLinkHtml = 'Like what you see? Visit the ' +\n",
              "            '<a target=\"_blank\" href=https://colab.research.google.com/notebooks/data_table.ipynb>data table notebook</a>'\n",
              "            + ' to learn more about interactive tables.';\n",
              "          element.innerHTML = '';\n",
              "          dataTable['output_type'] = 'display_data';\n",
              "          await google.colab.output.renderOutput(dataTable, element);\n",
              "          const docLink = document.createElement('div');\n",
              "          docLink.innerHTML = docLinkHtml;\n",
              "          element.appendChild(docLink);\n",
              "        }\n",
              "      </script>\n",
              "    </div>\n",
              "  </div>\n",
              "  "
            ]
          },
          "metadata": {},
          "execution_count": 53
        }
      ]
    },
    {
      "cell_type": "markdown",
      "metadata": {
        "id": "Mxj1cKA2yk8s"
      },
      "source": [
        "**<font color='red'>Question 10.</font> What is the absolute difference between the number of unique sports at the 1994 Olympics and 2002 Olympics?**\n",
        "\n",
        "- 3\n",
        "- 10\n",
        "- 15 \n",
        "- 27 "
      ]
    },
    {
      "cell_type": "code",
      "source": [
        "abs(df[df['Year']==1994]['Sport'].nunique() - df[df['Year']==2002]['Sport'].nunique())"
      ],
      "metadata": {
        "colab": {
          "base_uri": "https://localhost:8080/"
        },
        "id": "4s9xkL-YeJIq",
        "outputId": "041e4f12-c637-4219-b251-6aba647f2d80"
      },
      "execution_count": 59,
      "outputs": [
        {
          "output_type": "execute_result",
          "data": {
            "text/plain": [
              "3"
            ]
          },
          "metadata": {},
          "execution_count": 59
        }
      ]
    }
  ],
  "metadata": {
    "kernelspec": {
      "display_name": "Python 3 (ipykernel)",
      "language": "python",
      "name": "python3"
    },
    "language_info": {
      "codemirror_mode": {
        "name": "ipython",
        "version": 3
      },
      "file_extension": ".py",
      "mimetype": "text/x-python",
      "name": "python",
      "nbconvert_exporter": "python",
      "pygments_lexer": "ipython3",
      "version": "3.10.4"
    },
    "colab": {
      "provenance": []
    }
  },
  "nbformat": 4,
  "nbformat_minor": 0
}